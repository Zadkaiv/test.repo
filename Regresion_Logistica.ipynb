{
  "nbformat": 4,
  "nbformat_minor": 0,
  "metadata": {
    "colab": {
      "provenance": [],
      "authorship_tag": "ABX9TyO/NFAdAbB3mwpQLDUwEV2B",
      "include_colab_link": true
    },
    "kernelspec": {
      "name": "python3",
      "display_name": "Python 3"
    },
    "language_info": {
      "name": "python"
    }
  },
  "cells": [
    {
      "cell_type": "markdown",
      "metadata": {
        "id": "view-in-github",
        "colab_type": "text"
      },
      "source": [
        "<a href=\"https://colab.research.google.com/github/Zadkaiv/test.repo/blob/main/Regresion_Logistica.ipynb\" target=\"_parent\"><img src=\"https://colab.research.google.com/assets/colab-badge.svg\" alt=\"Open In Colab\"/></a>"
      ]
    },
    {
      "cell_type": "markdown",
      "source": [
        "REGRESION LOGISTICA: Para hacer una clasificacion en solo dos posibles opciones o predecir una probabilidad"
      ],
      "metadata": {
        "id": "-t6vRoeOnhW5"
      }
    },
    {
      "cell_type": "code",
      "source": [
        "#Titanic prediction"
      ],
      "metadata": {
        "id": "sTg8wG07nlWE"
      },
      "execution_count": null,
      "outputs": []
    },
    {
      "cell_type": "code",
      "source": [
        "import pandas as pd\n",
        "datos = pd.read_cvs"
      ],
      "metadata": {
        "id": "pddcxvG4oD-G"
      },
      "execution_count": null,
      "outputs": []
    }
  ]
}